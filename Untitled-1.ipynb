{
 "cells": [
  {
   "cell_type": "markdown",
   "metadata": {},
   "source": [
    "# Import Knihoven\n",
    "Importujte potřebné knihovny, například NumPy nebo Pandas."
   ]
  },
  {
   "cell_type": "code",
   "execution_count": null,
   "metadata": {},
   "outputs": [],
   "source": [
    "# Import Knihoven\n",
    "import numpy as np\n",
    "import pandas as pd"
   ]
  },
  {
   "cell_type": "markdown",
   "metadata": {},
   "source": [
    "# Definice Funkce\n",
    "Definujte funkci, kterou chcete spustit."
   ]
  },
  {
   "cell_type": "code",
   "execution_count": null,
   "metadata": {},
   "outputs": [],
   "source": [
    "# Definice Funkce\n",
    "def pozdrav(jmeno):\n",
    "    \"\"\"\n",
    "    Funkce, která přijme jméno a vrátí pozdrav.\n",
    "    \"\"\"\n",
    "    return f\"Ahoj, {jmeno}!\""
   ]
  },
  {
   "cell_type": "markdown",
   "metadata": {},
   "source": [
    "# Spuštění Funkce\n",
    "Spusťte definovanou funkci s příslušnými argumenty."
   ]
  },
  {
   "cell_type": "code",
   "execution_count": null,
   "metadata": {},
   "outputs": [],
   "source": [
    "# Spuštění Funkce\n",
    "jmeno = \"Karel\"\n",
    "pozdrav(jmeno)"
   ]
  },
  {
   "cell_type": "markdown",
   "metadata": {},
   "source": [
    "# Výstup\n",
    "Zobrazte výstup funkce."
   ]
  },
  {
   "cell_type": "code",
   "execution_count": null,
   "metadata": {},
   "outputs": [],
   "source": [
    "# Výstup\n",
    "vystup = pozdrav(jmeno)\n",
    "vystup"
   ]
  }
 ],
 "metadata": {
  "kernelspec": {
   "display_name": "Python 3",
   "language": "python",
   "name": "python3"
  },
  "language_info": {
   "name": "python",
   "version": "3.13.2"
  }
 },
 "nbformat": 4,
 "nbformat_minor": 2
}
