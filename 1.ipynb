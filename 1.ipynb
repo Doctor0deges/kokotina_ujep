{
 "cells": [
  {
   "cell_type": "code",
   "execution_count": null,
   "metadata": {},
   "outputs": [
    {
     "name": "stdout",
     "output_type": "stream",
     "text": [
      "0\n",
      "1\n",
      "13\n"
     ]
    }
   ],
   "source": [
    "def fibonacci(n: int) -> int:\n",
    "    \n",
    "    if n == 0:\n",
    "        return 0\n",
    "    elif n == 1:\n",
    "        return 1\n",
    "\n",
    "    a, b = 0, 1\n",
    "    \n",
    "    for i in range(2, n + 1):\n",
    "        a, b = b, a + b\n",
    "    \n",
    "    return b\n",
    "\n",
    "print(fibonacci(0))  # Výstup: 0\n",
    "print(fibonacci(1))  # Výstup: 1\n",
    "print(fibonacci(7))  # Výstup: 13\n"
   ]
  },
  {
   "cell_type": "code",
   "execution_count": 6,
   "metadata": {},
   "outputs": [
    {
     "name": "stdout",
     "output_type": "stream",
     "text": [
      "[1, 2, 3, 4, 5]\n",
      "[7, 8, 9, 10]\n"
     ]
    }
   ],
   "source": [
    "def unique_sorted(data: list[int]) -> list[int]:\n",
    "    unique_data = []  \n",
    "    for item in data:  \n",
    "        if item not in unique_data:  \n",
    "            unique_data.append(item)  \n",
    "\n",
    "    n = len(unique_data)  \n",
    "    for i in range(n):  \n",
    "        for j in range(0, n - i - 1):  \n",
    "            if unique_data[j] > unique_data[j + 1]:  \n",
    "          \n",
    "                unique_data[j], unique_data[j + 1] = unique_data[j + 1], unique_data[j]\n",
    "\n",
    "    return unique_data\n",
    "\n",
    "\n",
    "data = [4, 2, 5, 3, 2, 4, 1, 3]\n",
    "print(unique_sorted(data))  # Výstup: [1, 2, 3, 4, 5]\n",
    "data = [10, 10, 9, 8, 7, 8]\n",
    "print(unique_sorted(data))  # Výstup: [7, 8, 9, 10]\n"
   ]
  }
 ],
 "metadata": {
  "kernelspec": {
   "display_name": "Python 3",
   "language": "python",
   "name": "python3"
  },
  "language_info": {
   "codemirror_mode": {
    "name": "ipython",
    "version": 3
   },
   "file_extension": ".py",
   "mimetype": "text/x-python",
   "name": "python",
   "nbconvert_exporter": "python",
   "pygments_lexer": "ipython3",
   "version": "3.13.2"
  }
 },
 "nbformat": 4,
 "nbformat_minor": 2
}
